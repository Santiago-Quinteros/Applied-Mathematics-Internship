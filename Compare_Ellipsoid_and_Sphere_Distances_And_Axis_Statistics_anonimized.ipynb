{
  "cells": [
    {
      "cell_type": "markdown",
      "metadata": {
        "id": "view-in-github",
        "colab_type": "text"
      },
      "source": [
        "<a href=\"https://colab.research.google.com/github/Santiago-Quinteros/Applied-Mathematics-Internship/blob/main/Compare_Ellipsoid_and_Sphere_Distances_And_Axis_Statistics_anonimized.ipynb\" target=\"_parent\"><img src=\"https://colab.research.google.com/assets/colab-badge.svg\" alt=\"Open In Colab\"/></a>"
      ]
    },
    {
      "cell_type": "code",
      "execution_count": null,
      "id": "bb7421bf",
      "metadata": {
        "id": "bb7421bf"
      },
      "outputs": [],
      "source": [
        "import numpy as np\n",
        "import vtk\n",
        "import os\n",
        "import shutil\n",
        "\n",
        "def EllipsoidCenterAxisRotation(condyle,originRoute):\n",
        "    if condyle==0:\n",
        "        file='point_file_1.txt'\n",
        "    if condyle==1:\n",
        "        file='point_file_2.txt'\n",
        "    with open(os.path.join(originRoute,file), \"r\") as f:\n",
        "        content = f.read()\n",
        "    content=content.split()\n",
        "\n",
        "    #Center\n",
        "    C=[0,0,0]\n",
        "    C[0]=(float(content[content.index('Cx:')+1]))\n",
        "    C[1]=(float(content[content.index('Cy:')+1]))\n",
        "    C[2]=(float(content[content.index('Cz:')+1]))\n",
        "\n",
        "    #SemiAxis\n",
        "    sA=[1,1,1]\n",
        "    sA[0]=(float(content[content.index('sAu:')+1]))\n",
        "    sA[1]=(float(content[content.index('sAv:')+1]))\n",
        "    sA[2]=(float(content[content.index('sAw:')+1]))\n",
        "\n",
        "    #Projections of the SemiAxis in XYZ\n",
        "    sAu=[1,0,0]\n",
        "    sAv=[0,1,0]\n",
        "    sAw=[0,0,1]\n",
        "\n",
        "    sAu[0]=(float(content[content.index('(Aux:')+1]))\n",
        "    sAu[1]=(float(content[content.index('Auy:')+1]))\n",
        "    sAu[2]=(float(content[content.index('Auz:')+1].replace(')','')))\n",
        "\n",
        "    sAv[0]=(float(content[content.index('(Avx:')+1]))\n",
        "    sAv[1]=(float(content[content.index('Avy:')+1]))\n",
        "    sAv[2]=(float(content[content.index('Avz:')+1].replace(')','')))\n",
        "\n",
        "    sAw[0]=(float(content[content.index('(Awx:')+1]))\n",
        "    sAw[1]=(float(content[content.index('Awy:')+1]))\n",
        "    sAw[2]=(float(content[content.index('Awz:')+1].replace(')','')))\n",
        "\n",
        "    sAu /= np.linalg.norm(sAu)\n",
        "    sAv /= np.linalg.norm(sAv)\n",
        "    sAw /= np.linalg.norm(sAw)\n",
        "\n",
        "    R = np.array([sAu, sAv, sAw]).T\n",
        "    return C,sA,R"
      ]
    },
    {
      "cell_type": "code",
      "execution_count": null,
      "id": "5bd484d2",
      "metadata": {
        "id": "5bd484d2"
      },
      "outputs": [],
      "source": [
        "def Generate(condyle,originRoute,destinationRoute):\n",
        "    C,sA,R=EllipsoidCenterAxisRotation(condyle,originRoute)\n",
        "    GenerateEllipsoidCenter(C,condyle,destinationRoute)\n",
        "    GenerateTheEllipsoid(C,sA,R,condyle,destinationRoute)"
      ]
    },
    {
      "cell_type": "code",
      "execution_count": null,
      "id": "4d39c424",
      "metadata": {
        "id": "4d39c424"
      },
      "outputs": [],
      "source": [
        "#generate Ellipsoid Center\n",
        "def GenerateEllipsoidCenter(C,condyle,destinationRoute):\n",
        "    ellipsoid_center = vtk.vtkSphereSource()\n",
        "    ellipsoid_center.SetCenter(0,0,0)\n",
        "    ellipsoid_center.SetRadius(1.0)\n",
        "    ellipsoid_center.SetPhiResolution(100)\n",
        "    ellipsoid_center.SetThetaResolution(100)\n",
        "    ellipsoid_center.Update()\n",
        "\n",
        "    #TranslateCenter\n",
        "    translation = vtk.vtkTransform()\n",
        "    translation.Translate(C)\n",
        "\n",
        "    transform_filter = vtk.vtkTransformFilter()\n",
        "    transform_filter.SetInputConnection(ellipsoid_center.GetOutputPort())\n",
        "    transform_filter.SetTransform(translation)\n",
        "    transform_filter.Update()\n",
        "\n",
        "    output = transform_filter.GetOutput()\n",
        "\n",
        "    if condyle==0:\n",
        "        outputname=\"Ellipsoid_Center_Medial.vtk\"\n",
        "    if condyle==1:\n",
        "        outputname=\"Ellipsoid_Center_Lateral.vtk\"\n",
        "    writer = vtk.vtkPolyDataWriter()\n",
        "    writer.SetFileName(os.path.join(destinationRoute,outputname))\n",
        "    writer.SetInputData(output)\n",
        "    writer.Write()"
      ]
    },
    {
      "cell_type": "code",
      "execution_count": null,
      "id": "264931e6",
      "metadata": {
        "id": "264931e6"
      },
      "outputs": [],
      "source": [
        "#Generate Ellipsoid\n",
        "def GenerateTheEllipsoid(C,sA,R,condyle,destinationRoute):\n",
        "    ellipsoid = vtk.vtkSphereSource()\n",
        "    ellipsoid.SetCenter(0,0,0)\n",
        "    ellipsoid.SetRadius(1.0)\n",
        "    ellipsoid.SetPhiResolution(100)\n",
        "    ellipsoid.SetThetaResolution(100)\n",
        "    ellipsoid.Update()\n",
        "\n",
        "    #SetAxis\n",
        "    AssignAxis = vtk.vtkTransform()\n",
        "    AssignAxis.Scale(sA)\n",
        "\n",
        "    AssignAxis_filter = vtk.vtkTransformFilter()\n",
        "    AssignAxis_filter.SetInputConnection(ellipsoid.GetOutputPort())\n",
        "    AssignAxis_filter.SetTransform(AssignAxis)\n",
        "    AssignAxis_filter.Update()\n",
        "    #Rotate\n",
        "\n",
        "    rotation_matrix = R\n",
        "    matrix4x4 = np.zeros((4, 4))\n",
        "    matrix4x4[:3, :3] = rotation_matrix\n",
        "    matrix4x4[3, 3] = 1\n",
        "    rotation = vtk.vtkTransform()\n",
        "    rotation.SetMatrix(matrix4x4.flatten())\n",
        "\n",
        "    Rotate_filter = vtk.vtkTransformFilter()\n",
        "    Rotate_filter.SetInputConnection(AssignAxis_filter.GetOutputPort())\n",
        "    Rotate_filter.SetTransform(rotation)\n",
        "    Rotate_filter.Update()\n",
        "\n",
        "    #TranslateCenter\n",
        "    translation = vtk.vtkTransform()\n",
        "    translation.Translate(C)\n",
        "\n",
        "    transform_filter = vtk.vtkTransformFilter()\n",
        "    transform_filter.SetInputConnection(Rotate_filter.GetOutputPort())\n",
        "    transform_filter.SetTransform(translation)\n",
        "    transform_filter.Update()\n",
        "\n",
        "    output = transform_filter.GetOutput()\n",
        "\n",
        "    if condyle==0:\n",
        "        outputname=\"Ellipsoid_Medial.vtk\"\n",
        "    if condyle==1:\n",
        "        outputname=\"Ellipsoid_Lateral.vtk\"\n",
        "    writer = vtk.vtkPolyDataWriter()\n",
        "    writer.SetFileName(os.path.join(destinationRoute,outputname))\n",
        "    writer.SetInputData(output)\n",
        "    writer.Write()"
      ]
    },
    {
      "cell_type": "code",
      "execution_count": null,
      "id": "ff3094fd",
      "metadata": {
        "id": "ff3094fd"
      },
      "outputs": [],
      "source": [
        "#Create the folders where I'll save the cuadratics\n",
        "\n",
        "def CreateEllipseFolders(NewFolder):\n",
        "    folder_path = os.path.join(os.getcwd(),'Ellipsoids') #Folders with matlab logs\n",
        "    patients = [f for f in os.listdir(folder_path) if os.path.isdir(os.path.join(folder_path, f)) and len(f) == 3 and f.isnumeric()]\n",
        "    patients.sort(key=lambda x: int(x))\n",
        "    legs=['Left','Right']\n",
        "    condyle=[\"Medial\",\"Lateral\"]\n",
        "\n",
        "    CuadraticsDone=os.path.join(os.getcwd(), NewFolder)\n",
        "    os.mkdir(CuadraticsDone)\n",
        "    for p in range(len(patients)):\n",
        "        os.mkdir(os.path.join(CuadraticsDone,patients[p]))\n",
        "        for l in range(len(legs)):\n",
        "            if os.path.exists(os.path.join(folder_path,patients[p],legs[l])):\n",
        "                os.mkdir(os.path.join(CuadraticsDone,patients[p],legs[l]))\n",
        "\n",
        "    for p in range(len(patients)):\n",
        "        for l in range(len(legs)):\n",
        "            if os.path.exists(os.path.join(folder_path,patients[p],legs[l])):\n",
        "                for c in range(len(condyle)):\n",
        "                        originRoute = os.path.join(folder_path,patients[p],legs[l],condyle[c]) #Dossier avec le maiallage\n",
        "                        destinationRoute=os.path.join(CuadraticsDone,patients[p],legs[l])\n",
        "                        Generate(c,originRoute,destinationRoute)"
      ]
    },
    {
      "cell_type": "code",
      "execution_count": null,
      "id": "b87824d4",
      "metadata": {
        "id": "b87824d4"
      },
      "outputs": [],
      "source": [
        "def AddSpheresMeshAndSSM():\n",
        "    folder_path = os.path.join(os.getcwd(),'Folders','Folders') #Folders with matlab logs\n",
        "    patients = [f for f in os.listdir(folder_path) if os.path.isdir(os.path.join(folder_path, f)) and len(f) == 3 and f.isnumeric()]\n",
        "    patients.sort(key=lambda x: int(x))\n",
        "    legs=['Left','Right']\n",
        "    files=['file1.vtk','file2.vtk','file3.vtk','file4.vtk','file5.vtk','file6.vtk','file7.vtk','file8.vtk','file9.vtk']\n",
        "\n",
        "    for p in range(len(patients)):\n",
        "        for l in range(len(legs)):\n",
        "            if os.path.exists(os.path.join(folder_path,patients[p],legs[l])):\n",
        "                route=os.path.join(folder_path,patients[p],legs[l],'registration','bSpline','bspline_proximalDeformedModel.vtk')\n",
        "                destination=os.path.join(os.getcwd(),'CuadraticsDone',patients[p],legs[l])\n",
        "                shutil.copy(route,destination)\n",
        "                route=os.path.join(folder_path,patients[p],legs[l],'localization','inModelSpace')\n",
        "                for f in range(len(files)):\n",
        "                    shutil.copy(os.path.join(route,files[f]),destination)"
      ]
    },
    {
      "cell_type": "code",
      "execution_count": null,
      "id": "7d1a5b38",
      "metadata": {
        "id": "7d1a5b38"
      },
      "outputs": [],
      "source": [
        "#Goes over the folder with the Ellipsoids Log and creates a set of folders with the generated Ellipse and its center\n",
        "#In the folders we'll have the ellipsoids, their center. The spheres from data and its center. The meshes and the SSM for visualisation porposes\n",
        "#The together will be used when working with hyperboloids\n",
        "\n",
        "#All the program suposes we are in the folder where everything is\n",
        "\n",
        "Newfolder='CuadraticsDone'\n",
        "CreateEllipseFolders(Newfolder)\n"
      ]
    },
    {
      "cell_type": "code",
      "execution_count": null,
      "id": "9f176218",
      "metadata": {
        "id": "9f176218"
      },
      "outputs": [],
      "source": [
        "#save as well the spheres, meshes and ssm. folders folder ... makecopy\n",
        "AddSpheresMeshAndSSM()"
      ]
    },
    {
      "cell_type": "code",
      "execution_count": null,
      "id": "1fe1ab43",
      "metadata": {
        "id": "1fe1ab43"
      },
      "outputs": [],
      "source": [
        "#Create a text file with the position of sphere and ellipsoid center for each condyle and its distance according to the 3 planes\n",
        "#Also the angle of the axis\n",
        "\n",
        "#Input:Center of the Spheres and center of the Ellipsoids\n",
        "\n",
        "#I want to go through everything and make a .txt file with the centre of the sphere and the centre of the ellipsoids.\n",
        "\n",
        "#I could add to the AddSpheresMeshAndSSM() function the 3 planes.\n",
        "\n",
        "#I want to see how to open the centre sphere they gave me in .vtk to extract the centre."
      ]
    },
    {
      "cell_type": "code",
      "execution_count": null,
      "id": "6945a9b4",
      "metadata": {
        "id": "6945a9b4"
      },
      "outputs": [],
      "source": [
        "#I want to go through all Ellipsoids, use the function that takes out the centre and save it in a file EllipsoidCenter.txt in the folder CuadraticsDone .txt with the centre of the sphere and the centre of the ellipsoids.\n",
        "def CenterEllipsoidTxt(Folder):\n",
        "    folder_path = os.path.join(os.getcwd(),'Ellipsoids') #Folders with matlab logs\n",
        "    patients = [f for f in os.listdir(folder_path) if os.path.isdir(os.path.join(folder_path, f)) and len(f) == 3 and f.isnumeric()]\n",
        "    patients.sort(key=lambda x: int(x))\n",
        "    legs=['Left','Right']\n",
        "    condyle=[\"Medial\",\"Lateral\"]\n",
        "\n",
        "    CuadraticsDone=os.path.join(os.getcwd(), Folder)\n",
        "\n",
        "\n",
        "    for p in range(len(patients)):\n",
        "        for l in range(len(legs)):\n",
        "            if os.path.exists(os.path.join(folder_path,patients[p],legs[l])):\n",
        "                for c in range(len(condyle)):\n",
        "                        originRoute = os.path.join(folder_path,patients[p],legs[l],condyle[c]) #Dossier avec le maiallage\n",
        "                        destinationRoute=os.path.join(CuadraticsDone,patients[p],legs[l])\n",
        "                        Center,_,_=EllipsoidCenterAxisRotation(c,originRoute)\n",
        "                        with open (os.path.join(destinationRoute,\"Ellipsoid\"+condyle[c]+\"Center.txt\"),\"w\") as f:\n",
        "                            f.write(\" \".join(map(str, Center)))\n",
        "\n",
        "\n",
        "Folder='CuadraticsDone'\n",
        "CenterEllipsoidTxt(Folder)"
      ]
    },
    {
      "cell_type": "code",
      "execution_count": null,
      "id": "aad6dd7c",
      "metadata": {
        "id": "aad6dd7c"
      },
      "outputs": [],
      "source": [
        "#def CenterEllipsoidTxt(Folder):\n",
        "#    folder_path = os.path.join(os.getcwd(),'Ellipsoids') #Folders with matlab logs\n",
        "#    patients = [f for f in os.listdir(folder_path) if os.path.isdir(os.path.join(folder_path, f)) and len(f) == 3 and f.isnumeric()]\n",
        "#    patients.sort(key=lambda x: int(x))\n",
        "#    legs=['Left','Right']\n",
        "#    condyle=[\"Medial\",\"Lateral\"]\n",
        "#\n",
        "#    CuadraticsDone=os.path.join(os.getcwd(), Folder)\n",
        "#\n",
        "#\n",
        "#    for p in range(len(patients)):\n",
        "#        for l in range(len(legs)):\n",
        "#            if os.path.exists(os.path.join(folder_path,patients[p],legs[l])):\n",
        "#                for c in range(len(condyle)):\n",
        "#                        originRoute = os.path.join(folder_path,patients[p],legs[l],condyle[c]) #Dossier avec le maiallage\n",
        "#                        destinationRoute=os.path.join(CuadraticsDone,patients[p],legs[l])\n",
        "#                        Center,_,_=EllipsoidCenterAxisRotation(c,originRoute)\n",
        "#                        with open (os.path.join(destinationRoute,\"EllipsoidCenter.txt\"),\"w\") as f:\n",
        "#                            f.write(\" \".join(map(str, Center)))\n",
        "#\n",
        "#\n",
        "#Folder='CuadraticsDone'\n",
        "#CenterEllipsoidTxt(Folder)"
      ]
    },
    {
      "cell_type": "code",
      "execution_count": null,
      "id": "bd72b932",
      "metadata": {
        "id": "bd72b932"
      },
      "outputs": [],
      "source": [
        "#def CenterSphereTxt(Folder):\n",
        "#    folder_path = os.path.join(os.getcwd(),Folder) #Folders with the vtk spheres\n",
        "#    patients = [f for f in os.listdir(folder_path) if os.path.isdir(os.path.join(folder_path, f)) and len(f) == 3 and f.isnumeric()]\n",
        "#    patients.sort(key=lambda x: int(x))\n",
        "#    legs=['Left','Right']\n",
        "#    condyle=[\"Medial\",\"Lateral\"]\n",
        "#\n",
        "#    CuadraticsDone=os.path.join(os.getcwd(), Folder)\n",
        "#\n",
        "#    for p in range(len(patients)):\n",
        "#        for l in range(len(legs)):\n",
        "#            if os.path.exists(os.path.join(folder_path,patients[p],legs[l])):\n",
        "#                for c in range(len(condyle)):\n",
        "#                        originRoute = os.path.join(folder_path,patients[p],legs[l]) #Dossier avec le maiallage\n",
        "#                        destinationRoute=os.path.join(CuadraticsDone,patients[p],legs[l])\n",
        "#                        Center=ExtractSphereCenter(c,originRoute)\n",
        "#                        with open (os.path.join(destinationRoute,\"Sphere\"+condyle[c]+\"Center.txt\"),\"w\") as f:\n",
        "#                            f.write(\" \".join(map(str, Center)))\n",
        "\n",
        "#\n",
        "#\n",
        "#Folder='CuadraticsDone'\n",
        "#CenterSphereTxt(Folder)"
      ]
    },
    {
      "cell_type": "code",
      "execution_count": null,
      "id": "cb7ed491",
      "metadata": {
        "id": "cb7ed491"
      },
      "outputs": [],
      "source": [
        "def ExtractCenter(shapes,condyle,originRoute):\n",
        "    #si estoy en el condilo medial va a ser una cosa, en el medial otra. La entrada y la salida\n",
        "    if shapes==0:\n",
        "        if condyle==0:\n",
        "            file='file0.vtk'\n",
        "        if condyle==1:\n",
        "            file='file1.vtk'\n",
        "    if shapes==1:\n",
        "        if condyle==0:\n",
        "            file='Ellipsoid_Center_Medial.vtk'\n",
        "        if condyle==1:\n",
        "            file='Ellipsoid_Center_Lateral.vtk'\n",
        "\n",
        "        #extraigo todos los valores en un arreglo, promedio cada 3 para tener el promedio en cada coordenada\n",
        "\n",
        "    with open(os.path.join(originRoute,file), \"r\") as f:\n",
        "        content = f.read()\n",
        "        content=content.split()\n",
        "        points_number = int(content[11]) # extract number of points\n",
        "        coords_limit=13+points_number*3\n",
        "        coords = content[13:coords_limit]\n",
        "        x=coords[0::3]\n",
        "        y=coords[1::3]\n",
        "        z=coords[2::3]\n",
        "        x=[float(value) for value in x]\n",
        "        y=[float(value) for value in y]\n",
        "        z=[float(value) for value in z]\n",
        "        Center=[]\n",
        "        Center.append(round(np.mean(x),2))\n",
        "        Center.append(round(np.mean(y),2))\n",
        "        Center.append(round(np.mean(z),2))\n",
        "\n",
        "    return Center"
      ]
    },
    {
      "cell_type": "code",
      "execution_count": null,
      "id": "50cffa66",
      "metadata": {
        "id": "50cffa66"
      },
      "outputs": [],
      "source": [
        "#I will make the normalised difference of the centres (i.e. the normalised distance) for ellipses and spheres.\n",
        "#I will have 2 normalised vectors at the centre at the origin with the direction of each of the axes.\n",
        "#I project those vectors in the planes of interest (only the components remain in those planes and I make the angle between those vectors restricted to that plane).\n",
        "#If you make the angle between vectors that are in the same plane, surely it is the angle you want.\n",
        "\n",
        "#2 vectors always define a plane. There is a formula cos(tita)=a.b/|a||b| that gives you that angle.\n",
        "#By restricting those vectors to a plane, I see the angle according to that plane.\n",
        "from vtk.util import numpy_support\n",
        "\n",
        "def AngleDifference(MedialCenterSphere,LateralCenterSphere,MedialCenterEllipsoid,LateralCenterEllipsoid,plane_normal):\n",
        "\n",
        "    normal=plane_normal\n",
        "    origin=[0,0,0]\n",
        "    SphereAxis = [0.0, 0.0, 0.0]\n",
        "    EllipsoidAxis = [0.0, 0.0, 0.0]\n",
        "\n",
        "    vtk.vtkMath.Subtract(MedialCenterSphere, LateralCenterSphere, SphereAxis)\n",
        "    vtk.vtkMath.Normalize(SphereAxis)\n",
        "    ProyectedSphereAxis = [0.0, 0.0, 0.0]\n",
        "    vtk.vtkPlane.ProjectVector(SphereAxis,origin, normal, ProyectedSphereAxis)\n",
        "\n",
        "    vtk.vtkMath.Subtract(MedialCenterEllipsoid, LateralCenterEllipsoid, EllipsoidAxis)\n",
        "    vtk.vtkMath.Normalize(EllipsoidAxis)\n",
        "    ProyectedEllipsoidAxis = [0.0, 0.0, 0.0]\n",
        "    vtk.vtkPlane.ProjectVector(EllipsoidAxis,origin, normal, ProyectedEllipsoidAxis)\n",
        "\n",
        "\n",
        "    angle = vtk.vtkMath.AngleBetweenVectors(ProyectedSphereAxis, ProyectedEllipsoidAxis)\n",
        "    angle = vtk.vtkMath.DegreesFromRadians(angle)\n",
        "    return angle"
      ]
    },
    {
      "cell_type": "code",
      "execution_count": null,
      "id": "af76e17b",
      "metadata": {
        "id": "af76e17b",
        "outputId": "3969c7ac-1132-4729-a658-75999119fd58"
      },
      "outputs": [
        {
          "name": "stdout",
          "output_type": "stream",
          "text": [
            "14\n"
          ]
        }
      ],
      "source": [
        "#That creates a txt with the centre of the sphere, the centre of the ellipsoid and the distance between them according to each plane.\n",
        "#For the next one use the vtk functions, sure this gives the same as some function that gives you the centre of the point cloud.\n",
        "#I just added the lines with centerdistance (which I haven't done yet) so it shouldn't work.\n",
        "def CenterDistanceTxt(Folder):\n",
        "    AllAngles_resectionPlane=[]\n",
        "    AllAngles_posteriorPlane=[]\n",
        "\n",
        "\n",
        "\n",
        "    folder_path = os.path.join(os.getcwd(),Folder) #Folders with the vtk spheres\n",
        "    patients = [f for f in os.listdir(folder_path) if os.path.isdir(os.path.join(folder_path, f)) and len(f) == 3 and f.isnumeric()]\n",
        "    patients.sort(key=lambda x: int(x))\n",
        "    legs=['Left','Right']\n",
        "    condyle=[\"Medial\",\"Lateral\"]\n",
        "    shapes=[\"Sphere\",\"Ellipsoid\"]\n",
        "    CuadraticsDone=os.path.join(os.getcwd(), Folder)\n",
        "\n",
        "    for p in range(len(patients)):\n",
        "        for l in range(len(legs)):\n",
        "            if os.path.exists(os.path.join(folder_path,patients[p],legs[l])):\n",
        "                for c in range(len(condyle)):\n",
        "                        originRoute = os.path.join(folder_path,patients[p],legs[l]) #Dossier avec le maiallage\n",
        "                        destinationRoute=os.path.join(CuadraticsDone,patients[p],legs[l])\n",
        "                        for s in range(len(shapes)):\n",
        "                            if s==0 and c==0:\n",
        "                                SphereMedialCenter=ExtractCenter(s,c,originRoute)\n",
        "                            if s==1 and c==0:\n",
        "                                EllipsoidMedialCenter=ExtractCenter(s,c,originRoute)\n",
        "                            if s==0 and c==1:\n",
        "                                SphereLateralCenter=ExtractCenter(s,c,originRoute)\n",
        "                            if s==1 and c==1:\n",
        "                                EllipsoidLateralCenter=ExtractCenter(s,c,originRoute)\n",
        "\n",
        "                #Read the plans data\n",
        "                with open (os.path.join(destinationRoute,\"computeFemurLandmarks_posteriorPlane.vtk\"),\"r\") as f:\n",
        "                    normal_posteriorPlane= [float(n) for n in f.readlines()[12].split()[0:3]]\n",
        "\n",
        "                with open (os.path.join(destinationRoute,\"computeFemurLandmarks_resectionPlane.vtk\"),\"r\") as f:\n",
        "                    normal_resectionPlane= [float(n) for n in f.readlines()[12].split()[0:3]]\n",
        "\n",
        "                with open (os.path.join(destinationRoute,\"computeFemurLandmarks_cap.vtk\"),\"r\") as f:\n",
        "                    normal_cap= [float(n) for n in f.readlines()[12].split()[0:3]]\n",
        "\n",
        "                Angle_Between_Axis_posteriorPlane=AngleDifference(SphereMedialCenter,SphereLateralCenter,EllipsoidMedialCenter,EllipsoidLateralCenter,normal_posteriorPlane)\n",
        "                AllAngles_posteriorPlane.append(Angle_Between_Axis_posteriorPlane)\n",
        "\n",
        "                Angle_Between_Axis_resectionPlane=AngleDifference(SphereMedialCenter,SphereLateralCenter,EllipsoidMedialCenter,EllipsoidLateralCenter,normal_resectionPlane)\n",
        "                AllAngles_resectionPlane.append(Angle_Between_Axis_resectionPlane)\n",
        "                #Angle_Between_Axis_cap=AngleDifference(SphereMedialCenter,SphereLateralCenter,EllipsoidMedialCenter,EllipsoidLateralCenter,normal_cap)\n",
        "\n",
        "                with open (os.path.join(destinationRoute,\"Centers.txt\"),\"w\") as f:\n",
        "                    f.write(\"SphereMedialCenter:     \")\n",
        "                    f.write(\" \".join(map(str, SphereMedialCenter))+\"\\n\")\n",
        "                    f.write(\"EllipsoidMedialCenter:  \")\n",
        "                    f.write(\" \".join(map(str, EllipsoidMedialCenter))+\"\\n\")\n",
        "                    f.write(\"SphereLateralCenter:    \")\n",
        "                    f.write(\" \".join(map(str, SphereLateralCenter))+\"\\n\")\n",
        "                    f.write(\"EllipsoidLateralCenter: \")\n",
        "                    f.write(\" \".join(map(str, EllipsoidLateralCenter))+\"\\n\")\n",
        "                    f.write(\"Angle between the Ellipsoid Axis and the Sphere Axis according to different plans (º): \\n\")\n",
        "                    f.write(\"Posterior: \"+str(Angle_Between_Axis_posteriorPlane)+\"\\n\")\n",
        "                    f.write(\"Resection: \"+str(Angle_Between_Axis_resectionPlane)+\"\\n\")\n",
        "                    #f.write(\"CAP:       \"+str(Angle_Between_Axis_cap)+\"\\n\")\n",
        "\n",
        "                #Crear linea que pasa por los ejes\n",
        "                extra=np.array([5,5,5])\n",
        "                SphereAxis = vtk.vtkLineSource()\n",
        "                SphereAxis.SetPoint1(np.array(SphereMedialCenter))  # Seteamos el primer punto\n",
        "                SphereAxis.SetPoint2(np.array(SphereLateralCenter))  # Seteamos el segundo punto\n",
        "                SphereAxis.Update()\n",
        "\n",
        "                writer = vtk.vtkPolyDataWriter()\n",
        "                writer.SetFileName(os.path.join(destinationRoute,\"SphereAxis.vtk\"))\n",
        "                writer.SetInputConnection(SphereAxis.GetOutputPort())\n",
        "                writer.Write()\n",
        "\n",
        "                EllipsoidAxis = vtk.vtkLineSource()\n",
        "                EllipsoidAxis.SetPoint1(np.array(EllipsoidMedialCenter))  # Seteamos el primer punto\n",
        "                EllipsoidAxis.SetPoint2(np.array(EllipsoidLateralCenter))  # Seteamos el segundo punto\n",
        "                EllipsoidAxis.Update()\n",
        "\n",
        "                writer = vtk.vtkPolyDataWriter()\n",
        "                writer.SetFileName(os.path.join(destinationRoute,\"EllipsoidAxis.vtk\"))\n",
        "                writer.SetInputConnection(EllipsoidAxis.GetOutputPort())\n",
        "                writer.Write()\n",
        "\n",
        "    NumberOfAngles_resectionPlane = len(AllAngles_resectionPlane)\n",
        "    MeanAngle_resectionPlane = np.mean(AllAngles_resectionPlane)\n",
        "    SD_MeanAngle_resectionPlane =np.std(AllAngles_resectionPlane)\n",
        "    MaxAngle_resectionPlane = np.max(AllAngles_resectionPlane)\n",
        "    MinAngle_resectionPlane = np.min(AllAngles_resectionPlane)\n",
        "\n",
        "    NumberOfAngles_posteriorPlane = len(AllAngles_posteriorPlane)\n",
        "    MeanAngle_posteriorPlane = np.mean(AllAngles_posteriorPlane)\n",
        "    SD_MeanAngle_posteriorPlane =np.std(AllAngles_posteriorPlane)\n",
        "    MaxAngle_posteriorPlane = np.max(AllAngles_posteriorPlane)\n",
        "    MinAngle_posteriorPlane = np.min(AllAngles_posteriorPlane)\n",
        "\n",
        "    with open (os.path.join(os.getcwd(),\"Angle between axis.txt\"),\"w\") as f:\n",
        "        f.write(\"Average angle between the Ellipsoid Axis and the Sphere Axis according to different plans (º): \\n\")\n",
        "\n",
        "        f.write(\"Number of Subjects: \" + str(NumberOfAngles_resectionPlane)+\"\\n\"+\"\\n\" )\n",
        "\n",
        "        f.write(\"Resection: \\n\")\n",
        "        f.write(\"Average: \"+str(round(MeanAngle_resectionPlane, 2))+\"\\n\")\n",
        "        f.write(\"Standar Deviation: \"+str(round(SD_MeanAngle_resectionPlane, 2))+\"\\n\")\n",
        "        f.write(\"Max: \"+str(round(MaxAngle_resectionPlane, 2))+\"\\n\")\n",
        "        f.write(\"Min: \"+str(round(MinAngle_resectionPlane, 2))+\"\\n\")\n",
        "\n",
        "\n",
        "        f.write(\"\\nPosterior: \\n\")\n",
        "        f.write(\"Average: \"+str(round(MeanAngle_posteriorPlane, 2))+\"\\n\")\n",
        "        f.write(\"Standar Deviation: \"+str(round(SD_MeanAngle_posteriorPlane, 2))+\"\\n\")\n",
        "        f.write(\"Max: \"+str(round(MaxAngle_posteriorPlane, 2))+\"\\n\")\n",
        "        f.write(\"Min: \"+str(round(MinAngle_posteriorPlane, 2))+\"\\n\")\n",
        "\n",
        "    print(AllAngles_resectionPlane.index(np.max(AllAngles_resectionPlane)))\n",
        "Folder='CuadraticsDone'\n",
        "CenterDistanceTxt(Folder)\n"
      ]
    },
    {
      "cell_type": "raw",
      "id": "b69acc74",
      "metadata": {
        "id": "b69acc74"
      },
      "source": [
        "import vtk\n",
        "import numpy as np\n",
        "\n",
        "# Vector a proyectar\n",
        "A = np.array([2.0, 3.0, 4.0])\n",
        "\n",
        "# Vector normal al plano\n",
        "N = np.array([1.0, 0.0, 0.0])\n",
        "\n",
        "# Vector que define la dirección del eje de proyección\n",
        "V = np.array([0.0, 1.0, 0.0])\n",
        "\n",
        "# Creamos un objeto vtkMath\n",
        "math = vtk.vtkMath()\n",
        "\n",
        "# Calculamos la proyección del vector A en el plano definido por N y V\n",
        "projected_A = np.zeros(3)\n",
        "math.ProjectVector(A, N, V, projected_A)"
      ]
    },
    {
      "cell_type": "code",
      "execution_count": null,
      "id": "ea76a50f",
      "metadata": {
        "id": "ea76a50f"
      },
      "outputs": [],
      "source": [
        "def CenterDistance(CenterSphere,CenterEllipsoid):\n",
        "\n",
        "def AxisAngle(CenterSphere,CenterEllipsoid):"
      ]
    },
    {
      "cell_type": "code",
      "execution_count": null,
      "id": "31df6e1c",
      "metadata": {
        "id": "31df6e1c",
        "outputId": "35e48465-92f7-4aff-d167-7dd934eb0408"
      },
      "outputs": [
        {
          "name": "stdout",
          "output_type": "stream",
          "text": [
            "[0.0715094, 0.99735, -0.0133985]\n"
          ]
        }
      ],
      "source": [
        "import os\n",
        "destinationRoute=os.path.join(os.getcwd(),\"CuadraticsDone\",\"002\",\"Left\")\n",
        "with open (os.path.join(destinationRoute,\"computeFemurLandmarks_posteriorPlane.vtk\"),\"r\") as f:\n",
        "    normal= [float(n) for n in f.readlines()[12].split()[0:3]]\n",
        "    print(normal)\n"
      ]
    },
    {
      "cell_type": "code",
      "execution_count": null,
      "id": "325d2df1",
      "metadata": {
        "id": "325d2df1",
        "outputId": "6e4d5180-0499-4f2c-ffbc-432cf01017ac"
      },
      "outputs": [
        {
          "name": "stdout",
          "output_type": "stream",
          "text": [
            "[2 2 2]\n"
          ]
        }
      ],
      "source": [
        "print(np.array([1,1,1])+np.array([1,1,1]))"
      ]
    },
    {
      "cell_type": "code",
      "execution_count": null,
      "id": "1cf74753",
      "metadata": {
        "id": "1cf74753"
      },
      "outputs": [],
      "source": [
        "# Average angle between the Ellipsoid Axis and the Sphere Axis according to different plans (º):\n",
        "# Number of Subjects: --\n",
        "\n",
        "# Resection:\n",
        "# Average: --\n",
        "# Standar Deviation: --\n",
        "# Max: --\n",
        "# Min: --\n",
        "\n",
        "# Posterior:\n",
        "# Average: --\n",
        "# Standar Deviation: --\n",
        "# Max: --\n",
        "# Min: --\n"
      ]
    }
  ],
  "metadata": {
    "kernelspec": {
      "display_name": "Python 3 (ipykernel)",
      "language": "python",
      "name": "python3"
    },
    "language_info": {
      "codemirror_mode": {
        "name": "ipython",
        "version": 3
      },
      "file_extension": ".py",
      "mimetype": "text/x-python",
      "name": "python",
      "nbconvert_exporter": "python",
      "pygments_lexer": "ipython3",
      "version": "3.9.12"
    },
    "colab": {
      "provenance": [],
      "include_colab_link": true
    }
  },
  "nbformat": 4,
  "nbformat_minor": 5
}